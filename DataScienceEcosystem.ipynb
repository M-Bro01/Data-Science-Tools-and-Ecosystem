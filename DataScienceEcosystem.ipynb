{
 "cells": [
  {
   "cell_type": "markdown",
   "id": "171933ee-0526-40c5-b313-9fdb8906b4aa",
   "metadata": {},
   "source": [
    "# Data Science Tools and Ecosystem"
   ]
  },
  {
   "cell_type": "markdown",
   "id": "6e838aa1-9d1b-472f-8fad-c08a46296dc5",
   "metadata": {},
   "source": [
    "In this notebook, Data Science Tools and Ecosystem are summarized."
   ]
  },
  {
   "cell_type": "markdown",
   "id": "02f48a85-941d-41e8-8c0d-9a6f54d3d6b5",
   "metadata": {},
   "source": [
    "**Objectives:**\n",
    "* overview of the data scientist's tool kit, which includes libraries and packages, data sets, machine learning, kernels and others\n",
    "* overview of open source & commercial big data and cloud-based tools\n",
    "* Learning how to use Jupyter Notebooks, RStudio and GitHub\n",
    "* Getting hands on experience with these tools\n"
   ]
  },
  {
   "cell_type": "markdown",
   "id": "494a34d0-8830-4336-9ad2-53cf20278378",
   "metadata": {},
   "source": [
    "Some of the popular languages that Data Scientists use are:\n",
    "1. Python\n",
    "2. R\n",
    "3. Julia"
   ]
  },
  {
   "cell_type": "markdown",
   "id": "d08b708a-e9d8-4853-87c5-0a2788c93f82",
   "metadata": {},
   "source": [
    "Some of the commonly used libraries used by Data Scientists include:\n",
    "1. dplyr\n",
    "2. stringr\n",
    "3. ggplot\n",
    "4. caret\n"
   ]
  },
  {
   "cell_type": "markdown",
   "id": "cf7f4319-1f72-4c3b-bc91-7a209b346d2a",
   "metadata": {},
   "source": [
    "|Data Science Tools|\n",
    "|------------------|\n",
    "|RStudio|\n",
    "|Jupyter Notebooks|\n",
    "|Anaconda|"
   ]
  },
  {
   "cell_type": "markdown",
   "id": "5cd60082-8b63-41c2-a8eb-1ce0d78850de",
   "metadata": {},
   "source": [
    "### Below are a few examples of evaluating arithmetic expressions in Python"
   ]
  },
  {
   "cell_type": "markdown",
   "id": "9ddd1951-9234-4c0e-8d10-92aee9e1bb6d",
   "metadata": {},
   "source": [
    "This a simple arithmetic expression to mutiply then add integers"
   ]
  },
  {
   "cell_type": "code",
   "execution_count": 1,
   "id": "6662bc3c-ca6d-49ed-9bbd-e2a4b40600df",
   "metadata": {
    "tags": []
   },
   "outputs": [
    {
     "data": {
      "text/plain": [
       "17"
      ]
     },
     "execution_count": 1,
     "metadata": {},
     "output_type": "execute_result"
    }
   ],
   "source": [
    "(3*4)+5"
   ]
  },
  {
   "cell_type": "markdown",
   "id": "d116a27e-3b38-4740-aa0a-1a46218023d8",
   "metadata": {},
   "source": [
    "This will convert 200 minutes to hours by diving by 60"
   ]
  },
  {
   "cell_type": "code",
   "execution_count": 2,
   "id": "b8ddfa98-3141-4eac-be7b-e9fe3b5f7927",
   "metadata": {
    "tags": []
   },
   "outputs": [
    {
     "data": {
      "text/plain": [
       "3.3333333333333335"
      ]
     },
     "execution_count": 2,
     "metadata": {},
     "output_type": "execute_result"
    }
   ],
   "source": [
    "200/60"
   ]
  },
  {
   "cell_type": "markdown",
   "id": "dafeabda-a555-4d55-847d-d83aa2b7bac7",
   "metadata": {},
   "source": [
    "## Author\n",
    "Martin"
   ]
  },
  {
   "cell_type": "code",
   "execution_count": null,
   "id": "2d9b9242-32ce-4610-9fbd-62c2ca3e06fd",
   "metadata": {},
   "outputs": [],
   "source": []
  }
 ],
 "metadata": {
  "kernelspec": {
   "display_name": "Python",
   "language": "python",
   "name": "conda-env-python-py"
  },
  "language_info": {
   "codemirror_mode": {
    "name": "ipython",
    "version": 3
   },
   "file_extension": ".py",
   "mimetype": "text/x-python",
   "name": "python",
   "nbconvert_exporter": "python",
   "pygments_lexer": "ipython3",
   "version": "3.7.12"
  }
 },
 "nbformat": 4,
 "nbformat_minor": 5
}
